{
 "cells": [
  {
   "metadata": {},
   "cell_type": "markdown",
   "source": [
    "# Data preprocessing\n",
    "Made for creating the dataset in the suitable format."
   ],
   "id": "95dfb748b3694870"
  },
  {
   "metadata": {},
   "cell_type": "markdown",
   "source": [
    "## FEN Format\n",
    "Alternatively, a more compact encoded FEN serialisation could be used. But it can introduce minimal overhead\n",
    "on accessing the board states as it required decoding into tensor."
   ],
   "id": "4da595c24990db14"
  },
  {
   "metadata": {},
   "cell_type": "code",
   "source": [
    "import os\n",
    "\n",
    "os.chdir(\"../\")\n",
    "\n",
    "from pretrain.utils.dataset import DatasetPreprocessor"
   ],
   "id": "8115b9ec26ea5b8c",
   "outputs": [],
   "execution_count": null
  },
  {
   "metadata": {},
   "cell_type": "code",
   "source": [
    "preprocessor = DatasetPreprocessor(\n",
    "    data_path=\"data/dataset.parquet\",\n",
    "    dataset_out_path=\"data/out\",\n",
    "    subset_size=0.002,\n",
    "    elo_strength=0.5,\n",
    "    num_chunks=2,\n",
    ")"
   ],
   "id": "351a0caa8232ced1",
   "outputs": [],
   "execution_count": null
  },
  {
   "metadata": {},
   "cell_type": "code",
   "source": [
    "preprocessor.prepare()\n",
    "preprocessor.to_fen_dataset()"
   ],
   "id": "910d2313b2ee249d",
   "outputs": [],
   "execution_count": null
  },
  {
   "metadata": {},
   "cell_type": "code",
   "source": "preprocessor.preprocess()",
   "id": "9c690f2b78e042ee",
   "outputs": [],
   "execution_count": null
  },
  {
   "metadata": {},
   "cell_type": "code",
   "source": "",
   "id": "6b4f47ff28aff939",
   "outputs": [],
   "execution_count": null
  }
 ],
 "metadata": {
  "kernelspec": {
   "display_name": "Python 3",
   "language": "python",
   "name": "python3"
  },
  "language_info": {
   "codemirror_mode": {
    "name": "ipython",
    "version": 2
   },
   "file_extension": ".py",
   "mimetype": "text/x-python",
   "name": "python",
   "nbconvert_exporter": "python",
   "pygments_lexer": "ipython2",
   "version": "2.7.6"
  }
 },
 "nbformat": 4,
 "nbformat_minor": 5
}
