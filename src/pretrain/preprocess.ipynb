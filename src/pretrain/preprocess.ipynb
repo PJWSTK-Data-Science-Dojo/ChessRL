{
 "cells": [
  {
   "metadata": {},
   "cell_type": "markdown",
   "source": [
    "# Data preprocessing\n",
    "Made for creating the dataset in the suitable format."
   ],
   "id": "95dfb748b3694870"
  },
  {
   "metadata": {},
   "cell_type": "markdown",
   "source": [
    "## FEN Format\n",
    "Alternatively, a more compact encoded FEN serialisation could be used. But it can introduce minimal overhead\n",
    "on accessing the board states as it required decoding into tensor."
   ],
   "id": "4da595c24990db14"
  },
  {
   "metadata": {
    "ExecuteTime": {
     "end_time": "2025-05-03T12:04:28.102823Z",
     "start_time": "2025-05-03T12:04:27.055983Z"
    }
   },
   "cell_type": "code",
   "source": "from pretrain.utils.generate import DatasetPreprocessor",
   "id": "8115b9ec26ea5b8c",
   "outputs": [],
   "execution_count": 1
  },
  {
   "metadata": {
    "ExecuteTime": {
     "end_time": "2025-05-03T12:04:28.334292Z",
     "start_time": "2025-05-03T12:04:28.242777Z"
    }
   },
   "cell_type": "code",
   "source": [
    "preprocessor = DatasetPreprocessor(\n",
    "    data_path=\"data/dataset.parquet\",\n",
    "    dataset_out_path=\"data/torch_10p\",\n",
    "    subset_size=0.1,\n",
    "    elo_strength=0.0,\n",
    "    num_chunks=20,\n",
    ")"
   ],
   "id": "351a0caa8232ced1",
   "outputs": [],
   "execution_count": 2
  },
  {
   "metadata": {
    "ExecuteTime": {
     "end_time": "2025-05-03T12:04:30.978416Z",
     "start_time": "2025-05-03T12:04:28.343346Z"
    }
   },
   "cell_type": "code",
   "source": [
    "preprocessor.prepare()\n",
    "preprocessor.to_fen_dataset()"
   ],
   "id": "910d2313b2ee249d",
   "outputs": [],
   "execution_count": 3
  },
  {
   "metadata": {},
   "cell_type": "code",
   "source": "preprocessor.preprocess()",
   "id": "9c690f2b78e042ee",
   "outputs": [],
   "execution_count": null
  },
  {
   "metadata": {},
   "cell_type": "markdown",
   "source": [
    "## Direct tensor datasets\n",
    "Alternatively, one can wish to create a more optimised representation, which can be used almost directly for the training, but is more memory heavy."
   ],
   "id": "f1f71fb5c95d0aeb"
  },
  {
   "metadata": {
    "ExecuteTime": {
     "end_time": "2025-05-03T12:11:57.032097Z",
     "start_time": "2025-05-03T12:04:44.150805Z"
    }
   },
   "cell_type": "code",
   "source": "preprocessor.generate_tensor_dataset(num_workers=20)",
   "id": "bc4c4322dddebd54",
   "outputs": [
    {
     "name": "stderr",
     "output_type": "stream",
     "text": [
      "Processing chunks: 100%|██████████| 20/20 [07:12<00:00, 21.64s/it]\n"
     ]
    }
   ],
   "execution_count": 4
  },
  {
   "metadata": {},
   "cell_type": "code",
   "source": "",
   "id": "68aeb625dcdc836f",
   "outputs": [],
   "execution_count": null
  }
 ],
 "metadata": {
  "kernelspec": {
   "display_name": "Python 3",
   "language": "python",
   "name": "python3"
  },
  "language_info": {
   "codemirror_mode": {
    "name": "ipython",
    "version": 2
   },
   "file_extension": ".py",
   "mimetype": "text/x-python",
   "name": "python",
   "nbconvert_exporter": "python",
   "pygments_lexer": "ipython2",
   "version": "2.7.6"
  }
 },
 "nbformat": 4,
 "nbformat_minor": 5
}
